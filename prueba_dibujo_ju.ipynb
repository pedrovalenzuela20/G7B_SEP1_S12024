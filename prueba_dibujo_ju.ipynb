{
 "cells": [
  {
   "cell_type": "code",
   "execution_count": 2,
   "metadata": {},
   "outputs": [
    {
     "name": "stderr",
     "output_type": "stream",
     "text": [
      "No or insufficient geodata available --> Creating artificial coordinates. This may take some time\n"
     ]
    },
    {
     "ename": "ImportError",
     "evalue": "Some pandapower functionality use modules outside the setup.py requirements: build_igraph_from_pp() requires 'igraph'. \nigraph could not be imported.\nTo install all pandapower dependencies, pip install pandapower[\"all\"] can be used.",
     "output_type": "error",
     "traceback": [
      "\u001b[1;31m---------------------------------------------------------------------------\u001b[0m",
      "\u001b[1;31mImportError\u001b[0m                               Traceback (most recent call last)",
      "Cell \u001b[1;32mIn[2], line 18\u001b[0m\n\u001b[0;32m     15\u001b[0m net\u001b[38;5;241m.\u001b[39mbus \u001b[38;5;66;03m# show bus table\u001b[39;00m\n\u001b[0;32m     17\u001b[0m \u001b[38;5;66;03m# Mostrar la red eléctrica\u001b[39;00m\n\u001b[1;32m---> 18\u001b[0m plot\u001b[38;5;241m.\u001b[39msimple_plot(net, bus_size\u001b[38;5;241m=\u001b[39m\u001b[38;5;241m1.0\u001b[39m, ext_grid_size\u001b[38;5;241m=\u001b[39m\u001b[38;5;241m1.5\u001b[39m, trafo_size\u001b[38;5;241m=\u001b[39m\u001b[38;5;241m2.0\u001b[39m)\n\u001b[0;32m     20\u001b[0m \u001b[38;5;66;03m# Mostrar la figura\u001b[39;00m\n\u001b[0;32m     21\u001b[0m plt\u001b[38;5;241m.\u001b[39mshow()\n",
      "File \u001b[1;32mc:\\Users\\pedro\\anaconda3\\Lib\\site-packages\\pandapower\\plotting\\simple_plot.py:107\u001b[0m, in \u001b[0;36msimple_plot\u001b[1;34m(net, respect_switches, line_width, bus_size, ext_grid_size, trafo_size, plot_loads, plot_gens, plot_sgens, load_size, gen_size, sgen_size, switch_size, switch_distance, plot_line_switches, scale_size, bus_color, line_color, dcline_color, trafo_color, ext_grid_color, switch_color, library, show_plot, ax)\u001b[0m\n\u001b[0;32m    104\u001b[0m \u001b[38;5;28;01mif\u001b[39;00m \u001b[38;5;28mlen\u001b[39m(net\u001b[38;5;241m.\u001b[39mline_geodata) \u001b[38;5;241m==\u001b[39m \u001b[38;5;241m0\u001b[39m \u001b[38;5;129;01mand\u001b[39;00m \u001b[38;5;28mlen\u001b[39m(net\u001b[38;5;241m.\u001b[39mbus_geodata) \u001b[38;5;241m==\u001b[39m \u001b[38;5;241m0\u001b[39m:\n\u001b[0;32m    105\u001b[0m     logger\u001b[38;5;241m.\u001b[39mwarning(\u001b[38;5;124m\"\u001b[39m\u001b[38;5;124mNo or insufficient geodata available --> Creating artificial coordinates.\u001b[39m\u001b[38;5;124m\"\u001b[39m \u001b[38;5;241m+\u001b[39m\n\u001b[0;32m    106\u001b[0m                    \u001b[38;5;124m\"\u001b[39m\u001b[38;5;124m This may take some time\u001b[39m\u001b[38;5;124m\"\u001b[39m)\n\u001b[1;32m--> 107\u001b[0m     create_generic_coordinates(net, respect_switches\u001b[38;5;241m=\u001b[39mrespect_switches, library\u001b[38;5;241m=\u001b[39mlibrary)\n\u001b[0;32m    109\u001b[0m \u001b[38;5;28;01mif\u001b[39;00m scale_size:\n\u001b[0;32m    110\u001b[0m     \u001b[38;5;66;03m# if scale_size -> calc size from distance between min and max geocoord\u001b[39;00m\n\u001b[0;32m    111\u001b[0m     sizes \u001b[38;5;241m=\u001b[39m get_collection_sizes(net, bus_size, ext_grid_size, trafo_size,\n\u001b[0;32m    112\u001b[0m                                  load_size, sgen_size, switch_size, switch_distance, gen_size)\n",
      "File \u001b[1;32mc:\\Users\\pedro\\anaconda3\\Lib\\site-packages\\pandapower\\plotting\\generic_geodata.py:203\u001b[0m, in \u001b[0;36mcreate_generic_coordinates\u001b[1;34m(net, mg, library, respect_switches, geodata_table, buses, overwrite, layout_engine, trafo_length_km, switch_length_km)\u001b[0m\n\u001b[0;32m    201\u001b[0m \u001b[38;5;28;01mif\u001b[39;00m library \u001b[38;5;241m==\u001b[39m \u001b[38;5;124m\"\u001b[39m\u001b[38;5;124migraph\u001b[39m\u001b[38;5;124m\"\u001b[39m:\n\u001b[0;32m    202\u001b[0m     \u001b[38;5;28;01mif\u001b[39;00m \u001b[38;5;129;01mnot\u001b[39;00m IGRAPH_INSTALLED:\n\u001b[1;32m--> 203\u001b[0m         soft_dependency_error(\u001b[38;5;124m\"\u001b[39m\u001b[38;5;124mbuild_igraph_from_pp()\u001b[39m\u001b[38;5;124m\"\u001b[39m, \u001b[38;5;124m\"\u001b[39m\u001b[38;5;124migraph\u001b[39m\u001b[38;5;124m\"\u001b[39m)\n\u001b[0;32m    204\u001b[0m     graph, meshed, roots \u001b[38;5;241m=\u001b[39m build_igraph_from_pp(net, respect_switches, buses\u001b[38;5;241m=\u001b[39mbuses,\n\u001b[0;32m    205\u001b[0m                                                 trafo_length_km\u001b[38;5;241m=\u001b[39mtrafo_length_km, switch_length_km\u001b[38;5;241m=\u001b[39mswitch_length_km)\n\u001b[0;32m    206\u001b[0m     coords \u001b[38;5;241m=\u001b[39m coords_from_igraph(graph, roots, meshed)\n",
      "File \u001b[1;32mc:\\Users\\pedro\\anaconda3\\Lib\\site-packages\\pandapower\\auxiliary.py:113\u001b[0m, in \u001b[0;36msoft_dependency_error\u001b[1;34m(fct_name, required_packages)\u001b[0m\n\u001b[0;32m    110\u001b[0m \u001b[38;5;28;01mdef\u001b[39;00m \u001b[38;5;21msoft_dependency_error\u001b[39m(fct_name, required_packages):\n\u001b[0;32m    111\u001b[0m     required_packages \u001b[38;5;241m=\u001b[39m required_packages \u001b[38;5;28;01mif\u001b[39;00m \u001b[38;5;28misinstance\u001b[39m(required_packages, \u001b[38;5;28mstr\u001b[39m) \u001b[38;5;28;01melse\u001b[39;00m \\\n\u001b[0;32m    112\u001b[0m         \u001b[38;5;124m\"\u001b[39m\u001b[38;5;124m'\u001b[39m\u001b[38;5;124m,\u001b[39m\u001b[38;5;124m'\u001b[39m\u001b[38;5;124m\"\u001b[39m\u001b[38;5;241m.\u001b[39mjoin(required_packages)\n\u001b[1;32m--> 113\u001b[0m     \u001b[38;5;28;01mraise\u001b[39;00m \u001b[38;5;167;01mImportError\u001b[39;00m(\n\u001b[0;32m    114\u001b[0m         \u001b[38;5;124m\"\u001b[39m\u001b[38;5;124mSome pandapower functionality use modules outside the setup.py \u001b[39m\u001b[38;5;124m\"\u001b[39m\n\u001b[0;32m    115\u001b[0m         \u001b[38;5;124mf\u001b[39m\u001b[38;5;124m\"\u001b[39m\u001b[38;5;124mrequirements: \u001b[39m\u001b[38;5;132;01m{\u001b[39;00mfct_name\u001b[38;5;132;01m}\u001b[39;00m\u001b[38;5;124m requires \u001b[39m\u001b[38;5;124m'\u001b[39m\u001b[38;5;132;01m{\u001b[39;00mrequired_packages\u001b[38;5;132;01m}\u001b[39;00m\u001b[38;5;124m'\u001b[39m\u001b[38;5;124m. \u001b[39m\u001b[38;5;130;01m\\n\u001b[39;00m\u001b[38;5;124m\"\u001b[39m\n\u001b[0;32m    116\u001b[0m         \u001b[38;5;124mf\u001b[39m\u001b[38;5;124m\"\u001b[39m\u001b[38;5;132;01m{\u001b[39;00mrequired_packages\u001b[38;5;132;01m}\u001b[39;00m\u001b[38;5;124m could not be imported.\u001b[39m\u001b[38;5;130;01m\\n\u001b[39;00m\u001b[38;5;124m\"\u001b[39m\n\u001b[0;32m    117\u001b[0m         \u001b[38;5;124m'\u001b[39m\u001b[38;5;124mTo install all pandapower dependencies, pip install pandapower[\u001b[39m\u001b[38;5;124m\"\u001b[39m\u001b[38;5;124mall\u001b[39m\u001b[38;5;124m\"\u001b[39m\u001b[38;5;124m] can be used.\u001b[39m\u001b[38;5;124m'\u001b[39m)\n",
      "\u001b[1;31mImportError\u001b[0m: Some pandapower functionality use modules outside the setup.py requirements: build_igraph_from_pp() requires 'igraph'. \nigraph could not be imported.\nTo install all pandapower dependencies, pip install pandapower[\"all\"] can be used."
     ]
    }
   ],
   "source": [
    "import pandapower as pp\n",
    "import pandapower.plotting as plot\n",
    "import matplotlib.pyplot as plt\n",
    "\n",
    "net = pp.create_empty_network()\n",
    "\n",
    "bus1 = pp.create_bus(net, name=\"HV Busbar\", vn_kv=110, type=\"b\")\n",
    "bus2 = pp.create_bus(net, name=\"HV Busbar 2\", vn_kv=110, type=\"b\")\n",
    "bus3 = pp.create_bus(net, name=\"HV Transformer Bus\", vn_kv=110, type=\"n\")\n",
    "bus4 = pp.create_bus(net, name=\"MV Transformer Bus\", vn_kv=20, type=\"n\")\n",
    "bus5 = pp.create_bus(net, name=\"MV Main Bus\", vn_kv=20, type=\"b\")\n",
    "bus6 = pp.create_bus(net, name=\"MV Bus 1\", vn_kv=20, type=\"b\")\n",
    "bus7 = pp.create_bus(net, name=\"MV Bus 2\", vn_kv=20, type=\"b\")\n",
    "\n",
    "net.bus # show bus table\n",
    "\n",
    "# Mostrar la red eléctrica\n",
    "plot.simple_plot(net, bus_size=1.0, ext_grid_size=1.5, trafo_size=2.0)\n",
    "\n",
    "# Mostrar la figura\n",
    "plt.show()\n"
   ]
  }
 ],
 "metadata": {
  "kernelspec": {
   "display_name": "base",
   "language": "python",
   "name": "python3"
  },
  "language_info": {
   "codemirror_mode": {
    "name": "ipython",
    "version": 3
   },
   "file_extension": ".py",
   "mimetype": "text/x-python",
   "name": "python",
   "nbconvert_exporter": "python",
   "pygments_lexer": "ipython3",
   "version": "3.11.9"
  }
 },
 "nbformat": 4,
 "nbformat_minor": 2
}
