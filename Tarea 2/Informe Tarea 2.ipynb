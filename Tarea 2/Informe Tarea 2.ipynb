{
 "cells": [
  {
   "cell_type": "markdown",
   "metadata": {},
   "source": [
    "### SEP a analizar \n",
    "<div>\n",
    "<img src=\"SEP.png\" width=\"500\"/>\n",
    "</div>\n"
   ]
  },
  {
   "cell_type": "code",
   "execution_count": 6,
   "metadata": {},
   "outputs": [
    {
     "name": "stdout",
     "output_type": "stream",
     "text": [
      "      vm_pu  va_degree        p_mw       q_mvar\n",
      "0  1.000000   0.000000 -441.342753 -2976.565858\n",
      "1  0.615350 -47.272196  150.000000   100.000000\n",
      "2  0.579759 -48.744698   30.000000    20.000000\n",
      "3  0.539317 -50.606657   52.500000    35.000000\n",
      "4  0.517404 -51.703177   22.500000    15.000000\n",
      "5  0.586284 -48.462034   15.000000    10.000000\n",
      "6  0.511160 -51.967794   90.000000    60.000000\n",
      "    p_from_mw  q_from_mvar     p_to_mw  q_to_mvar     pl_mw   ql_mvar  \\\n",
      "0  127.959458    88.685107 -122.687432 -82.075858  5.272026  6.609249   \n",
      "1   92.687432    62.075858  -88.088806 -57.063946  4.598626  5.011913   \n",
      "2   35.588806    22.063946  -34.566986 -23.107935  1.021820 -1.043990   \n",
      "3  104.461381    72.144302 -100.950680 -68.328551  3.510701  3.815750   \n",
      "4   85.950680    58.328551  -78.037415 -50.171387  7.913265  8.157164   \n",
      "5   12.066986     8.107935  -11.962585  -9.828613  0.104401 -1.720678   \n",
      "\n",
      "   i_from_ka   i_to_ka      i_ka  vm_from_pu  va_from_degree  vm_to_pu  \\\n",
      "0   1.327940  1.336332  1.336332    0.615350      -47.272196  0.579759   \n",
      "1   1.009917  1.021441  1.021441    0.579759      -48.744698  0.539317   \n",
      "2   0.407512  0.421790  0.421790    0.539317      -50.606657  0.517404   \n",
      "3   1.082844  1.091304  1.091304    0.615350      -47.272196  0.586284   \n",
      "4   0.929917  0.952612  0.952612    0.586284      -48.462034  0.511160   \n",
      "5   0.147475  0.158975  0.158975    0.517404      -51.703177  0.511160   \n",
      "\n",
      "   va_to_degree  loading_percent  \n",
      "0    -48.744698       292.414110  \n",
      "1    -50.606657       223.510090  \n",
      "2    -51.703177        92.295388  \n",
      "3    -48.462034       238.797416  \n",
      "4    -51.967794       208.449007  \n",
      "5    -51.967794        34.786631  \n",
      "      p_hv_mw   q_hv_mvar     p_lv_mw    q_lv_mvar      pl_mw     ql_mvar  \\\n",
      "0 -382.420839 -260.829408  441.342753  2976.565858  58.921915  2715.73645   \n",
      "\n",
      "    i_hv_ka   i_lv_ka  vm_hv_pu  va_hv_degree  vm_lv_pu  va_lv_degree  \\\n",
      "0  3.948322  7.896859   0.61535    -47.272196       1.0           0.0   \n",
      "\n",
      "   loading_percent  \n",
      "0      1504.553732  \n"
     ]
    }
   ],
   "source": [
    "import pandapower as pp\n",
    "\n",
    "#Crear red vacía\n",
    "net = pp.create_empty_network()\n",
    "\n",
    "#Crear barras\n",
    "bus1 = pp.create_bus(net, vn_kv=220, name=\"Barra 1\")\n",
    "bus2 = pp.create_bus(net, vn_kv=110, name=\"Barra 2\")\n",
    "bus1A = pp.create_bus(net, vn_kv=110, name=\"Barra 1A\")\n",
    "bus2A = pp.create_bus(net, vn_kv=110, name=\"Barra 2A\")\n",
    "bus3A = pp.create_bus(net, vn_kv=110, name=\"Barra 3A\")\n",
    "bus1B = pp.create_bus(net, vn_kv=110, name=\"Barra 1B\")\n",
    "bus2B = pp.create_bus(net, vn_kv=110, name=\"Barra 2B\")\n",
    "\n",
    "#Crear barra slack en Barra 1\n",
    "pp.create_ext_grid(net, bus1, vm_pu=1.0, va_degree=0.0, name=\"Slack\")\n",
    "\n",
    "#Crear transformador entre Barra 1 y Barra 2\n",
    "pp.create_transformer(net, hv_bus=bus2, lv_bus=bus1, std_type=\"100 MVA 220/110 kV\", name=\"Trafo 1-2\")\n",
    "\n",
    "#Crear líneas de transmisión\n",
    "pp.create_line(net, from_bus=bus2, to_bus=bus1A, length_km=10, std_type=\"N2XS(FL)2Y 1x185 RM/35 64/110 kV\", name=\"Line 2-1A\")\n",
    "pp.create_line(net, from_bus=bus1A, to_bus=bus2A, length_km=15, std_type=\"N2XS(FL)2Y 1x185 RM/35 64/110 kV\", name=\"Line 1A-2A\")\n",
    "pp.create_line(net, from_bus=bus2A, to_bus=bus3A, length_km=20, std_type=\"N2XS(FL)2Y 1x185 RM/35 64/110 kV\", name=\"Line 2A-3A\")\n",
    "pp.create_line(net, from_bus=bus2, to_bus=bus1B, length_km=10, std_type=\"N2XS(FL)2Y 1x185 RM/35 64/110 kV\", name=\"Line 2-1B\")\n",
    "pp.create_line(net, from_bus=bus1B, to_bus=bus2B, length_km=30, std_type=\"N2XS(FL)2Y 1x185 RM/35 64/110 kV\", name=\"Line 1B-2B\")\n",
    "pp.create_line(net, from_bus=bus3A, to_bus=bus2B, length_km=15, std_type=\"N2XS(FL)2Y 1x185 RM/35 64/110 kV\", name=\"Line 3A-2B\")\n",
    "\n",
    "#Crear cargas\n",
    "pp.create_load(net, bus2, p_mw=150, q_mvar=100, name=\"Load 2\")  # Carga nominal en Barra 2\n",
    "pp.create_load(net, bus1A, p_mw=30, q_mvar=20, name=\"Load 1A\")\n",
    "pp.create_load(net, bus2A, p_mw=52.5, q_mvar=35, name=\"Load 2A\")\n",
    "pp.create_load(net, bus3A, p_mw=22.5, q_mvar=15, name=\"Load 3A\")\n",
    "pp.create_load(net, bus2B, p_mw=90, q_mvar=60, name=\"Load 2B\")\n",
    "pp.create_load(net, bus1B, p_mw=15, q_mvar=10, name=\"Load 1B\")\n",
    "\n",
    "\n",
    "\n",
    "pp.runpp(net, tolerance_mva=1e-5)\n",
    "\n",
    "# Mostrar resultados\n",
    "print(net.res_bus)\n",
    "print(net.res_line)\n",
    "print(net.res_trafo)"
   ]
  }
 ],
 "metadata": {
  "kernelspec": {
   "display_name": "base",
   "language": "python",
   "name": "python3"
  },
  "language_info": {
   "codemirror_mode": {
    "name": "ipython",
    "version": 3
   },
   "file_extension": ".py",
   "mimetype": "text/x-python",
   "name": "python",
   "nbconvert_exporter": "python",
   "pygments_lexer": "ipython3",
   "version": "3.11.9"
  }
 },
 "nbformat": 4,
 "nbformat_minor": 2
}
